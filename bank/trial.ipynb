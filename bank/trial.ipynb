{
 "nbformat": 4,
 "nbformat_minor": 2,
 "metadata": {
  "language_info": {
   "name": "python",
   "codemirror_mode": {
    "name": "ipython",
    "version": 3
   },
   "version": "3.6.9-final"
  },
  "orig_nbformat": 2,
  "file_extension": ".py",
  "mimetype": "text/x-python",
  "name": "python",
  "npconvert_exporter": "python",
  "pygments_lexer": "ipython3",
  "version": 3,
  "kernelspec": {
   "name": "python36964bitc298125a07bf43c188740115ab06391d",
   "display_name": "Python 3.6.9 64-bit"
  }
 },
 "cells": [
  {
   "cell_type": "code",
   "execution_count": 5,
   "metadata": {},
   "outputs": [
    {
     "data": {
      "text/html": "<div>\n<style scoped>\n    .dataframe tbody tr th:only-of-type {\n        vertical-align: middle;\n    }\n\n    .dataframe tbody tr th {\n        vertical-align: top;\n    }\n\n    .dataframe thead th {\n        text-align: right;\n    }\n</style>\n<table border=\"1\" class=\"dataframe\">\n  <thead>\n    <tr style=\"text-align: right;\">\n      <th></th>\n      <th>age</th>\n      <th>job</th>\n      <th>marital</th>\n      <th>education</th>\n      <th>default</th>\n      <th>housing</th>\n      <th>loan</th>\n      <th>contact</th>\n      <th>month</th>\n      <th>day_of_week</th>\n      <th>campaign</th>\n      <th>pdays</th>\n      <th>previous</th>\n      <th>poutcome</th>\n      <th>emp.var.rate</th>\n      <th>cons.price.idx</th>\n      <th>cons.conf.idx</th>\n      <th>euribor3m</th>\n      <th>nr.employed</th>\n      <th>y</th>\n    </tr>\n  </thead>\n  <tbody>\n    <tr>\n      <th>count</th>\n      <td>37899.000000</td>\n      <td>37899</td>\n      <td>37899</td>\n      <td>37899</td>\n      <td>37899</td>\n      <td>37899</td>\n      <td>37899</td>\n      <td>37899</td>\n      <td>37899</td>\n      <td>37899</td>\n      <td>37899.000000</td>\n      <td>37899.000000</td>\n      <td>37899.000000</td>\n      <td>37899</td>\n      <td>37899.000000</td>\n      <td>37899.000000</td>\n      <td>37899.000000</td>\n      <td>37899.000000</td>\n      <td>37899.000000</td>\n      <td>37899</td>\n    </tr>\n    <tr>\n      <th>unique</th>\n      <td>NaN</td>\n      <td>11</td>\n      <td>3</td>\n      <td>7</td>\n      <td>2</td>\n      <td>2</td>\n      <td>2</td>\n      <td>2</td>\n      <td>10</td>\n      <td>5</td>\n      <td>NaN</td>\n      <td>NaN</td>\n      <td>NaN</td>\n      <td>3</td>\n      <td>NaN</td>\n      <td>NaN</td>\n      <td>NaN</td>\n      <td>NaN</td>\n      <td>NaN</td>\n      <td>2</td>\n    </tr>\n    <tr>\n      <th>top</th>\n      <td>NaN</td>\n      <td>admin.</td>\n      <td>married</td>\n      <td>university.degree</td>\n      <td>no</td>\n      <td>yes</td>\n      <td>no</td>\n      <td>cellular</td>\n      <td>may</td>\n      <td>thu</td>\n      <td>NaN</td>\n      <td>NaN</td>\n      <td>NaN</td>\n      <td>nonexistent</td>\n      <td>NaN</td>\n      <td>NaN</td>\n      <td>NaN</td>\n      <td>NaN</td>\n      <td>NaN</td>\n      <td>no</td>\n    </tr>\n    <tr>\n      <th>freq</th>\n      <td>NaN</td>\n      <td>9943</td>\n      <td>22974</td>\n      <td>11787</td>\n      <td>37896</td>\n      <td>20376</td>\n      <td>31991</td>\n      <td>24120</td>\n      <td>12793</td>\n      <td>7943</td>\n      <td>NaN</td>\n      <td>NaN</td>\n      <td>NaN</td>\n      <td>32879</td>\n      <td>NaN</td>\n      <td>NaN</td>\n      <td>NaN</td>\n      <td>NaN</td>\n      <td>NaN</td>\n      <td>33817</td>\n    </tr>\n    <tr>\n      <th>mean</th>\n      <td>39.458825</td>\n      <td>NaN</td>\n      <td>NaN</td>\n      <td>NaN</td>\n      <td>NaN</td>\n      <td>NaN</td>\n      <td>NaN</td>\n      <td>NaN</td>\n      <td>NaN</td>\n      <td>NaN</td>\n      <td>2.574158</td>\n      <td>965.357661</td>\n      <td>0.164859</td>\n      <td>NaN</td>\n      <td>0.108509</td>\n      <td>93.574986</td>\n      <td>-40.585190</td>\n      <td>3.651885</td>\n      <td>5168.879720</td>\n      <td>NaN</td>\n    </tr>\n    <tr>\n      <th>std</th>\n      <td>9.574816</td>\n      <td>NaN</td>\n      <td>NaN</td>\n      <td>NaN</td>\n      <td>NaN</td>\n      <td>NaN</td>\n      <td>NaN</td>\n      <td>NaN</td>\n      <td>NaN</td>\n      <td>NaN</td>\n      <td>2.778507</td>\n      <td>179.656227</td>\n      <td>0.477472</td>\n      <td>NaN</td>\n      <td>1.551501</td>\n      <td>0.571991</td>\n      <td>4.566371</td>\n      <td>1.716182</td>\n      <td>70.583983</td>\n      <td>NaN</td>\n    </tr>\n    <tr>\n      <th>min</th>\n      <td>17.000000</td>\n      <td>NaN</td>\n      <td>NaN</td>\n      <td>NaN</td>\n      <td>NaN</td>\n      <td>NaN</td>\n      <td>NaN</td>\n      <td>NaN</td>\n      <td>NaN</td>\n      <td>NaN</td>\n      <td>1.000000</td>\n      <td>0.000000</td>\n      <td>0.000000</td>\n      <td>NaN</td>\n      <td>-3.400000</td>\n      <td>92.201000</td>\n      <td>-50.800000</td>\n      <td>0.634000</td>\n      <td>4963.600000</td>\n      <td>NaN</td>\n    </tr>\n    <tr>\n      <th>25%</th>\n      <td>32.000000</td>\n      <td>NaN</td>\n      <td>NaN</td>\n      <td>NaN</td>\n      <td>NaN</td>\n      <td>NaN</td>\n      <td>NaN</td>\n      <td>NaN</td>\n      <td>NaN</td>\n      <td>NaN</td>\n      <td>1.000000</td>\n      <td>999.000000</td>\n      <td>0.000000</td>\n      <td>NaN</td>\n      <td>-1.800000</td>\n      <td>93.075000</td>\n      <td>-42.700000</td>\n      <td>1.354000</td>\n      <td>5099.100000</td>\n      <td>NaN</td>\n    </tr>\n    <tr>\n      <th>50%</th>\n      <td>38.000000</td>\n      <td>NaN</td>\n      <td>NaN</td>\n      <td>NaN</td>\n      <td>NaN</td>\n      <td>NaN</td>\n      <td>NaN</td>\n      <td>NaN</td>\n      <td>NaN</td>\n      <td>NaN</td>\n      <td>2.000000</td>\n      <td>999.000000</td>\n      <td>0.000000</td>\n      <td>NaN</td>\n      <td>1.100000</td>\n      <td>93.444000</td>\n      <td>-41.800000</td>\n      <td>4.857000</td>\n      <td>5191.000000</td>\n      <td>NaN</td>\n    </tr>\n    <tr>\n      <th>75%</th>\n      <td>46.000000</td>\n      <td>NaN</td>\n      <td>NaN</td>\n      <td>NaN</td>\n      <td>NaN</td>\n      <td>NaN</td>\n      <td>NaN</td>\n      <td>NaN</td>\n      <td>NaN</td>\n      <td>NaN</td>\n      <td>3.000000</td>\n      <td>999.000000</td>\n      <td>0.000000</td>\n      <td>NaN</td>\n      <td>1.400000</td>\n      <td>93.994000</td>\n      <td>-36.400000</td>\n      <td>4.961000</td>\n      <td>5228.100000</td>\n      <td>NaN</td>\n    </tr>\n    <tr>\n      <th>max</th>\n      <td>69.000000</td>\n      <td>NaN</td>\n      <td>NaN</td>\n      <td>NaN</td>\n      <td>NaN</td>\n      <td>NaN</td>\n      <td>NaN</td>\n      <td>NaN</td>\n      <td>NaN</td>\n      <td>NaN</td>\n      <td>43.000000</td>\n      <td>999.000000</td>\n      <td>7.000000</td>\n      <td>NaN</td>\n      <td>1.400000</td>\n      <td>94.767000</td>\n      <td>-26.900000</td>\n      <td>5.045000</td>\n      <td>5228.100000</td>\n      <td>NaN</td>\n    </tr>\n  </tbody>\n</table>\n</div>",
      "text/plain": "                 age     job  marital          education default housing  \\\ncount   37899.000000   37899    37899              37899   37899   37899   \nunique           NaN      11        3                  7       2       2   \ntop              NaN  admin.  married  university.degree      no     yes   \nfreq             NaN    9943    22974              11787   37896   20376   \nmean       39.458825     NaN      NaN                NaN     NaN     NaN   \nstd         9.574816     NaN      NaN                NaN     NaN     NaN   \nmin        17.000000     NaN      NaN                NaN     NaN     NaN   \n25%        32.000000     NaN      NaN                NaN     NaN     NaN   \n50%        38.000000     NaN      NaN                NaN     NaN     NaN   \n75%        46.000000     NaN      NaN                NaN     NaN     NaN   \nmax        69.000000     NaN      NaN                NaN     NaN     NaN   \n\n         loan   contact  month day_of_week      campaign         pdays  \\\ncount   37899     37899  37899       37899  37899.000000  37899.000000   \nunique      2         2     10           5           NaN           NaN   \ntop        no  cellular    may         thu           NaN           NaN   \nfreq    31991     24120  12793        7943           NaN           NaN   \nmean      NaN       NaN    NaN         NaN      2.574158    965.357661   \nstd       NaN       NaN    NaN         NaN      2.778507    179.656227   \nmin       NaN       NaN    NaN         NaN      1.000000      0.000000   \n25%       NaN       NaN    NaN         NaN      1.000000    999.000000   \n50%       NaN       NaN    NaN         NaN      2.000000    999.000000   \n75%       NaN       NaN    NaN         NaN      3.000000    999.000000   \nmax       NaN       NaN    NaN         NaN     43.000000    999.000000   \n\n            previous     poutcome  emp.var.rate  cons.price.idx  \\\ncount   37899.000000        37899  37899.000000    37899.000000   \nunique           NaN            3           NaN             NaN   \ntop              NaN  nonexistent           NaN             NaN   \nfreq             NaN        32879           NaN             NaN   \nmean        0.164859          NaN      0.108509       93.574986   \nstd         0.477472          NaN      1.551501        0.571991   \nmin         0.000000          NaN     -3.400000       92.201000   \n25%         0.000000          NaN     -1.800000       93.075000   \n50%         0.000000          NaN      1.100000       93.444000   \n75%         0.000000          NaN      1.400000       93.994000   \nmax         7.000000          NaN      1.400000       94.767000   \n\n        cons.conf.idx     euribor3m   nr.employed      y  \ncount    37899.000000  37899.000000  37899.000000  37899  \nunique            NaN           NaN           NaN      2  \ntop               NaN           NaN           NaN     no  \nfreq              NaN           NaN           NaN  33817  \nmean       -40.585190      3.651885   5168.879720    NaN  \nstd          4.566371      1.716182     70.583983    NaN  \nmin        -50.800000      0.634000   4963.600000    NaN  \n25%        -42.700000      1.354000   5099.100000    NaN  \n50%        -41.800000      4.857000   5191.000000    NaN  \n75%        -36.400000      4.961000   5228.100000    NaN  \nmax        -26.900000      5.045000   5228.100000    NaN  "
     },
     "execution_count": 5,
     "metadata": {},
     "output_type": "execute_result"
    }
   ],
   "source": [
    "import pandas as pd\n",
    "import numpy as np\n",
    "import matplotlib.pyplot as plt\n",
    "import sklearn\n",
    "from sklearn.neural_network import MLPClassifier\n",
    "from sklearn.neural_network import MLPRegressor\n",
    "from sklearn.preprocessing import LabelEncoder\n",
    "from sklearn.decomposition import PCA\n",
    "from sklearn.model_selection import cross_val_score\n",
    "from sklearn.preprocessing import StandardScaler\n",
    "\n",
    "# Import necessary modules\n",
    "from sklearn.model_selection import train_test_split\n",
    "from sklearn.metrics import mean_squared_error\n",
    "from math import sqrt\n",
    "from sklearn.metrics import r2_score\n",
    "from sklearn.metrics import classification_report, confusion_matrix\n",
    "\n",
    "encoder = LabelEncoder()\n",
    "\n",
    "bank_data = pd.read_csv('bank-additional-full.csv', sep=',')\n",
    "\n",
    "bank_data['marital'].replace('unknown', 'married', inplace=True)\n",
    "bank_data['default'].replace('unknown', 'no', inplace=True)\n",
    "bank_data['loan'].replace('unknown', 'no', inplace=True)\n",
    "\n",
    "\n",
    "bank_data.drop(bank_data[bank_data.housing == 'unknown'].index, inplace=True)\n",
    "bank_data.drop(bank_data[bank_data.education == 'unknown'].index, inplace=True)\n",
    "bank_data.drop(bank_data[bank_data.job == 'unknown'].index, inplace=True)\n",
    "bank_data.drop(bank_data[bank_data.age >= 70].index, inplace=True)\n",
    "\n",
    "bank_data.describe(include='all')"
   ]
  },
  {
   "cell_type": "code",
   "execution_count": 2,
   "metadata": {},
   "outputs": [
    {
     "data": {
      "text/html": "<div>\n<style scoped>\n    .dataframe tbody tr th:only-of-type {\n        vertical-align: middle;\n    }\n\n    .dataframe tbody tr th {\n        vertical-align: top;\n    }\n\n    .dataframe thead th {\n        text-align: right;\n    }\n</style>\n<table border=\"1\" class=\"dataframe\">\n  <thead>\n    <tr style=\"text-align: right;\">\n      <th></th>\n      <th>age</th>\n      <th>job</th>\n      <th>marital</th>\n      <th>education</th>\n      <th>default</th>\n      <th>housing</th>\n      <th>loan</th>\n      <th>contact</th>\n      <th>month</th>\n      <th>day_of_week</th>\n      <th>campaign</th>\n      <th>pdays</th>\n      <th>previous</th>\n      <th>poutcome</th>\n      <th>emp.var.rate</th>\n      <th>cons.price.idx</th>\n      <th>cons.conf.idx</th>\n      <th>euribor3m</th>\n      <th>nr.employed</th>\n    </tr>\n  </thead>\n  <tbody>\n    <tr>\n      <th>0</th>\n      <td>56</td>\n      <td>3</td>\n      <td>1</td>\n      <td>0</td>\n      <td>0</td>\n      <td>0</td>\n      <td>0</td>\n      <td>1</td>\n      <td>6</td>\n      <td>1</td>\n      <td>1</td>\n      <td>999</td>\n      <td>0</td>\n      <td>1</td>\n      <td>1.1</td>\n      <td>93.994</td>\n      <td>-36.4</td>\n      <td>4.857</td>\n      <td>5191.0</td>\n    </tr>\n    <tr>\n      <th>1</th>\n      <td>57</td>\n      <td>7</td>\n      <td>1</td>\n      <td>3</td>\n      <td>0</td>\n      <td>0</td>\n      <td>0</td>\n      <td>1</td>\n      <td>6</td>\n      <td>1</td>\n      <td>1</td>\n      <td>999</td>\n      <td>0</td>\n      <td>1</td>\n      <td>1.1</td>\n      <td>93.994</td>\n      <td>-36.4</td>\n      <td>4.857</td>\n      <td>5191.0</td>\n    </tr>\n    <tr>\n      <th>2</th>\n      <td>37</td>\n      <td>7</td>\n      <td>1</td>\n      <td>3</td>\n      <td>0</td>\n      <td>1</td>\n      <td>0</td>\n      <td>1</td>\n      <td>6</td>\n      <td>1</td>\n      <td>1</td>\n      <td>999</td>\n      <td>0</td>\n      <td>1</td>\n      <td>1.1</td>\n      <td>93.994</td>\n      <td>-36.4</td>\n      <td>4.857</td>\n      <td>5191.0</td>\n    </tr>\n    <tr>\n      <th>3</th>\n      <td>40</td>\n      <td>0</td>\n      <td>1</td>\n      <td>1</td>\n      <td>0</td>\n      <td>0</td>\n      <td>0</td>\n      <td>1</td>\n      <td>6</td>\n      <td>1</td>\n      <td>1</td>\n      <td>999</td>\n      <td>0</td>\n      <td>1</td>\n      <td>1.1</td>\n      <td>93.994</td>\n      <td>-36.4</td>\n      <td>4.857</td>\n      <td>5191.0</td>\n    </tr>\n    <tr>\n      <th>4</th>\n      <td>56</td>\n      <td>7</td>\n      <td>1</td>\n      <td>3</td>\n      <td>0</td>\n      <td>0</td>\n      <td>1</td>\n      <td>1</td>\n      <td>6</td>\n      <td>1</td>\n      <td>1</td>\n      <td>999</td>\n      <td>0</td>\n      <td>1</td>\n      <td>1.1</td>\n      <td>93.994</td>\n      <td>-36.4</td>\n      <td>4.857</td>\n      <td>5191.0</td>\n    </tr>\n  </tbody>\n</table>\n</div>",
      "text/plain": "   age  job  marital  education  default  housing  loan  contact  month  \\\n0   56    3        1          0        0        0     0        1      6   \n1   57    7        1          3        0        0     0        1      6   \n2   37    7        1          3        0        1     0        1      6   \n3   40    0        1          1        0        0     0        1      6   \n4   56    7        1          3        0        0     1        1      6   \n\n   day_of_week  campaign  pdays  previous  poutcome  emp.var.rate  \\\n0            1         1    999         0         1           1.1   \n1            1         1    999         0         1           1.1   \n2            1         1    999         0         1           1.1   \n3            1         1    999         0         1           1.1   \n4            1         1    999         0         1           1.1   \n\n   cons.price.idx  cons.conf.idx  euribor3m  nr.employed  \n0          93.994          -36.4      4.857       5191.0  \n1          93.994          -36.4      4.857       5191.0  \n2          93.994          -36.4      4.857       5191.0  \n3          93.994          -36.4      4.857       5191.0  \n4          93.994          -36.4      4.857       5191.0  "
     },
     "execution_count": 2,
     "metadata": {},
     "output_type": "execute_result"
    }
   ],
   "source": [
    "X = bank_data.drop(columns=['y'])\n",
    "# encoding the data from strings to numbers\n",
    "X.job = encoder.fit_transform(X.job)\n",
    "X.marital = encoder.fit_transform(X.marital)\n",
    "X.education = encoder.fit_transform(X.education)\n",
    "X.default = encoder.fit_transform(X.default)\n",
    "X.housing = encoder.fit_transform(X.housing)\n",
    "X.contact = encoder.fit_transform(X.contact)\n",
    "X.loan = encoder.fit_transform(X.loan)\n",
    "X.month = encoder.fit_transform(X.month)\n",
    "X.day_of_week = encoder.fit_transform(X.day_of_week)\n",
    "X.poutcome = encoder.fit_transform(X.poutcome)\n",
    "\n",
    "# confirm target variable has been removed --> should print out one less column\n",
    "X.head()"
   ]
  },
  {
   "cell_type": "code",
   "execution_count": 3,
   "metadata": {},
   "outputs": [
    {
     "name": "stdout",
     "output_type": "stream",
     "text": "0.8719433215578215\n"
    }
   ],
   "source": [
    "y = bank_data['y'].values\n",
    "scores = cross_val_score(MLPClassifier(hidden_layer_sizes=(19, 19, 19),\n",
    "                                       activation='relu', solver='adam', max_iter=500), X, y, cv=10, n_jobs=-1)\n",
    "\n",
    "print(scores.mean())"
   ]
  },
  {
   "cell_type": "code",
   "execution_count": 6,
   "metadata": {},
   "outputs": [
    {
     "data": {
      "text/plain": "MLPClassifier(activation='relu', alpha=0.0001, batch_size='auto', beta_1=0.9,\n              beta_2=0.999, early_stopping=False, epsilon=1e-08,\n              hidden_layer_sizes=(19, 19, 19), learning_rate='constant',\n              learning_rate_init=0.001, max_fun=15000, max_iter=500,\n              momentum=0.9, n_iter_no_change=10, nesterovs_momentum=True,\n              power_t=0.5, random_state=None, shuffle=True, solver='adam',\n              tol=0.0001, validation_fraction=0.1, verbose=False,\n              warm_start=False)"
     },
     "execution_count": 6,
     "metadata": {},
     "output_type": "execute_result"
    }
   ],
   "source": [
    "# split dataset into train and test data\n",
    "X_train, X_test, y_train, y_test = train_test_split(X, y, test_size=0.2, random_state=1, stratify=y)\n",
    "\n",
    "# feature scaling --> so that all of them can be uniformly evaluated.. \n",
    "scaler = StandardScaler()\n",
    "# Fit only to the training data\n",
    "scaler.fit(X_train)\n",
    "# Now apply the transformations to the data:\n",
    "X_train = scaler.transform(X_train)\n",
    "X_test = scaler.transform(X_test)\n",
    "\n",
    "mlp = MLPClassifier(hidden_layer_sizes=(19, 19, 19),activation='relu', solver='adam', max_iter=500)\n",
    "mlp.fit(X_train, y_train)"
   ]
  },
  {
   "cell_type": "code",
   "execution_count": 7,
   "metadata": {},
   "outputs": [
    {
     "name": "stdout",
     "output_type": "stream",
     "text": "[[6603  161]\n [ 607  209]]\n              precision    recall  f1-score   support\n\n          no       0.92      0.98      0.95      6764\n         yes       0.56      0.26      0.35       816\n\n    accuracy                           0.90      7580\n   macro avg       0.74      0.62      0.65      7580\nweighted avg       0.88      0.90      0.88      7580\n\n"
    }
   ],
   "source": [
    "# Making predictions\n",
    "predictions = mlp.predict(X_test)\n",
    "\n",
    "print(confusion_matrix(y_test,predictions))\n",
    "print(classification_report(y_test,predictions))\n"
   ]
  },
  {
   "cell_type": "code",
   "execution_count": 8,
   "metadata": {},
   "outputs": [
    {
     "data": {
      "text/plain": "0.8973574665170876"
     },
     "execution_count": 8,
     "metadata": {},
     "output_type": "execute_result"
    }
   ],
   "source": [
    "# Cross validation\n",
    "model = MLPClassifier(hidden_layer_sizes=(19, 19, 19),activation='relu', solver='adam', max_iter=500)\n",
    "scores = cross_val_score(model,X,y,cv=10,n_jobs=-1)\n",
    "scores.mean()"
   ]
  },
  {
   "cell_type": "code",
   "execution_count": 9,
   "metadata": {},
   "outputs": [
    {
     "data": {
      "text/plain": "-0.11270010446060885"
     },
     "execution_count": 9,
     "metadata": {},
     "output_type": "execute_result"
    }
   ],
   "source": [
    "# RMSE\n",
    "scores_rmse = cross_val_score(model,X,y,cv=10,n_jobs=-1, scoring='neg_brier_score')\n",
    "scores_rmse.mean()"
   ]
  },
  {
   "cell_type": "code",
   "execution_count": 10,
   "metadata": {},
   "outputs": [
    {
     "data": {
      "text/plain": "0.6962372877142636"
     },
     "execution_count": 10,
     "metadata": {},
     "output_type": "execute_result"
    }
   ],
   "source": [
    "#ROC_AUC\n",
    "scores_auc = cross_val_score(model,X,y,cv=10,n_jobs=-1, scoring='roc_auc')\n",
    "scores_auc.mean()\n"
   ]
  },
  {
   "cell_type": "code",
   "execution_count": 14,
   "metadata": {},
   "outputs": [
    {
     "data": {
      "text/html": "<div>\n<style scoped>\n    .dataframe tbody tr th:only-of-type {\n        vertical-align: middle;\n    }\n\n    .dataframe tbody tr th {\n        vertical-align: top;\n    }\n\n    .dataframe thead th {\n        text-align: right;\n    }\n</style>\n<table border=\"1\" class=\"dataframe\">\n  <thead>\n    <tr style=\"text-align: right;\">\n      <th></th>\n      <th>age</th>\n      <th>campaign</th>\n      <th>pdays</th>\n      <th>previous</th>\n      <th>emp.var.rate</th>\n      <th>cons.price.idx</th>\n      <th>cons.conf.idx</th>\n      <th>euribor3m</th>\n      <th>nr.employed</th>\n      <th>job_admin.</th>\n      <th>...</th>\n      <th>month_oct</th>\n      <th>month_sep</th>\n      <th>day_of_week_fri</th>\n      <th>day_of_week_mon</th>\n      <th>day_of_week_thu</th>\n      <th>day_of_week_tue</th>\n      <th>day_of_week_wed</th>\n      <th>poutcome_failure</th>\n      <th>poutcome_nonexistent</th>\n      <th>poutcome_success</th>\n    </tr>\n  </thead>\n  <tbody>\n    <tr>\n      <th>0</th>\n      <td>56</td>\n      <td>1</td>\n      <td>999</td>\n      <td>0</td>\n      <td>1.1</td>\n      <td>93.994</td>\n      <td>-36.4</td>\n      <td>4.857</td>\n      <td>5191.0</td>\n      <td>0</td>\n      <td>...</td>\n      <td>0</td>\n      <td>0</td>\n      <td>0</td>\n      <td>1</td>\n      <td>0</td>\n      <td>0</td>\n      <td>0</td>\n      <td>0</td>\n      <td>1</td>\n      <td>0</td>\n    </tr>\n    <tr>\n      <th>1</th>\n      <td>57</td>\n      <td>1</td>\n      <td>999</td>\n      <td>0</td>\n      <td>1.1</td>\n      <td>93.994</td>\n      <td>-36.4</td>\n      <td>4.857</td>\n      <td>5191.0</td>\n      <td>0</td>\n      <td>...</td>\n      <td>0</td>\n      <td>0</td>\n      <td>0</td>\n      <td>1</td>\n      <td>0</td>\n      <td>0</td>\n      <td>0</td>\n      <td>0</td>\n      <td>1</td>\n      <td>0</td>\n    </tr>\n    <tr>\n      <th>2</th>\n      <td>37</td>\n      <td>1</td>\n      <td>999</td>\n      <td>0</td>\n      <td>1.1</td>\n      <td>93.994</td>\n      <td>-36.4</td>\n      <td>4.857</td>\n      <td>5191.0</td>\n      <td>0</td>\n      <td>...</td>\n      <td>0</td>\n      <td>0</td>\n      <td>0</td>\n      <td>1</td>\n      <td>0</td>\n      <td>0</td>\n      <td>0</td>\n      <td>0</td>\n      <td>1</td>\n      <td>0</td>\n    </tr>\n    <tr>\n      <th>3</th>\n      <td>40</td>\n      <td>1</td>\n      <td>999</td>\n      <td>0</td>\n      <td>1.1</td>\n      <td>93.994</td>\n      <td>-36.4</td>\n      <td>4.857</td>\n      <td>5191.0</td>\n      <td>1</td>\n      <td>...</td>\n      <td>0</td>\n      <td>0</td>\n      <td>0</td>\n      <td>1</td>\n      <td>0</td>\n      <td>0</td>\n      <td>0</td>\n      <td>0</td>\n      <td>1</td>\n      <td>0</td>\n    </tr>\n    <tr>\n      <th>4</th>\n      <td>56</td>\n      <td>1</td>\n      <td>999</td>\n      <td>0</td>\n      <td>1.1</td>\n      <td>93.994</td>\n      <td>-36.4</td>\n      <td>4.857</td>\n      <td>5191.0</td>\n      <td>0</td>\n      <td>...</td>\n      <td>0</td>\n      <td>0</td>\n      <td>0</td>\n      <td>1</td>\n      <td>0</td>\n      <td>0</td>\n      <td>0</td>\n      <td>0</td>\n      <td>1</td>\n      <td>0</td>\n    </tr>\n    <tr>\n      <th>...</th>\n      <td>...</td>\n      <td>...</td>\n      <td>...</td>\n      <td>...</td>\n      <td>...</td>\n      <td>...</td>\n      <td>...</td>\n      <td>...</td>\n      <td>...</td>\n      <td>...</td>\n      <td>...</td>\n      <td>...</td>\n      <td>...</td>\n      <td>...</td>\n      <td>...</td>\n      <td>...</td>\n      <td>...</td>\n      <td>...</td>\n      <td>...</td>\n      <td>...</td>\n      <td>...</td>\n    </tr>\n    <tr>\n      <th>41181</th>\n      <td>37</td>\n      <td>1</td>\n      <td>999</td>\n      <td>0</td>\n      <td>-1.1</td>\n      <td>94.767</td>\n      <td>-50.8</td>\n      <td>1.028</td>\n      <td>4963.6</td>\n      <td>1</td>\n      <td>...</td>\n      <td>0</td>\n      <td>0</td>\n      <td>1</td>\n      <td>0</td>\n      <td>0</td>\n      <td>0</td>\n      <td>0</td>\n      <td>0</td>\n      <td>1</td>\n      <td>0</td>\n    </tr>\n    <tr>\n      <th>41182</th>\n      <td>29</td>\n      <td>1</td>\n      <td>9</td>\n      <td>1</td>\n      <td>-1.1</td>\n      <td>94.767</td>\n      <td>-50.8</td>\n      <td>1.028</td>\n      <td>4963.6</td>\n      <td>0</td>\n      <td>...</td>\n      <td>0</td>\n      <td>0</td>\n      <td>1</td>\n      <td>0</td>\n      <td>0</td>\n      <td>0</td>\n      <td>0</td>\n      <td>0</td>\n      <td>0</td>\n      <td>1</td>\n    </tr>\n    <tr>\n      <th>41184</th>\n      <td>46</td>\n      <td>1</td>\n      <td>999</td>\n      <td>0</td>\n      <td>-1.1</td>\n      <td>94.767</td>\n      <td>-50.8</td>\n      <td>1.028</td>\n      <td>4963.6</td>\n      <td>0</td>\n      <td>...</td>\n      <td>0</td>\n      <td>0</td>\n      <td>1</td>\n      <td>0</td>\n      <td>0</td>\n      <td>0</td>\n      <td>0</td>\n      <td>0</td>\n      <td>1</td>\n      <td>0</td>\n    </tr>\n    <tr>\n      <th>41185</th>\n      <td>56</td>\n      <td>2</td>\n      <td>999</td>\n      <td>0</td>\n      <td>-1.1</td>\n      <td>94.767</td>\n      <td>-50.8</td>\n      <td>1.028</td>\n      <td>4963.6</td>\n      <td>0</td>\n      <td>...</td>\n      <td>0</td>\n      <td>0</td>\n      <td>1</td>\n      <td>0</td>\n      <td>0</td>\n      <td>0</td>\n      <td>0</td>\n      <td>0</td>\n      <td>1</td>\n      <td>0</td>\n    </tr>\n    <tr>\n      <th>41186</th>\n      <td>44</td>\n      <td>1</td>\n      <td>999</td>\n      <td>0</td>\n      <td>-1.1</td>\n      <td>94.767</td>\n      <td>-50.8</td>\n      <td>1.028</td>\n      <td>4963.6</td>\n      <td>0</td>\n      <td>...</td>\n      <td>0</td>\n      <td>0</td>\n      <td>1</td>\n      <td>0</td>\n      <td>0</td>\n      <td>0</td>\n      <td>0</td>\n      <td>0</td>\n      <td>1</td>\n      <td>0</td>\n    </tr>\n  </tbody>\n</table>\n<p>37899 rows × 56 columns</p>\n</div>",
      "text/plain": "       age  campaign  pdays  previous  emp.var.rate  cons.price.idx  \\\n0       56         1    999         0           1.1          93.994   \n1       57         1    999         0           1.1          93.994   \n2       37         1    999         0           1.1          93.994   \n3       40         1    999         0           1.1          93.994   \n4       56         1    999         0           1.1          93.994   \n...    ...       ...    ...       ...           ...             ...   \n41181   37         1    999         0          -1.1          94.767   \n41182   29         1      9         1          -1.1          94.767   \n41184   46         1    999         0          -1.1          94.767   \n41185   56         2    999         0          -1.1          94.767   \n41186   44         1    999         0          -1.1          94.767   \n\n       cons.conf.idx  euribor3m  nr.employed  job_admin.  ...  month_oct  \\\n0              -36.4      4.857       5191.0           0  ...          0   \n1              -36.4      4.857       5191.0           0  ...          0   \n2              -36.4      4.857       5191.0           0  ...          0   \n3              -36.4      4.857       5191.0           1  ...          0   \n4              -36.4      4.857       5191.0           0  ...          0   \n...              ...        ...          ...         ...  ...        ...   \n41181          -50.8      1.028       4963.6           1  ...          0   \n41182          -50.8      1.028       4963.6           0  ...          0   \n41184          -50.8      1.028       4963.6           0  ...          0   \n41185          -50.8      1.028       4963.6           0  ...          0   \n41186          -50.8      1.028       4963.6           0  ...          0   \n\n       month_sep  day_of_week_fri  day_of_week_mon  day_of_week_thu  \\\n0              0                0                1                0   \n1              0                0                1                0   \n2              0                0                1                0   \n3              0                0                1                0   \n4              0                0                1                0   \n...          ...              ...              ...              ...   \n41181          0                1                0                0   \n41182          0                1                0                0   \n41184          0                1                0                0   \n41185          0                1                0                0   \n41186          0                1                0                0   \n\n       day_of_week_tue  day_of_week_wed  poutcome_failure  \\\n0                    0                0                 0   \n1                    0                0                 0   \n2                    0                0                 0   \n3                    0                0                 0   \n4                    0                0                 0   \n...                ...              ...               ...   \n41181                0                0                 0   \n41182                0                0                 0   \n41184                0                0                 0   \n41185                0                0                 0   \n41186                0                0                 0   \n\n       poutcome_nonexistent  poutcome_success  \n0                         1                 0  \n1                         1                 0  \n2                         1                 0  \n3                         1                 0  \n4                         1                 0  \n...                     ...               ...  \n41181                     1                 0  \n41182                     0                 1  \n41184                     1                 0  \n41185                     1                 0  \n41186                     1                 0  \n\n[37899 rows x 56 columns]"
     },
     "execution_count": 14,
     "metadata": {},
     "output_type": "execute_result"
    }
   ],
   "source": [
    "# One hot encoding... \n",
    "one_enc_X = pd.get_dummies(bank_data.drop(columns=[\"y\"]))\n",
    "one_enc_X"
   ]
  },
  {
   "cell_type": "code",
   "execution_count": 15,
   "metadata": {},
   "outputs": [
    {
     "data": {
      "text/plain": "0.8080589346608813"
     },
     "execution_count": 15,
     "metadata": {},
     "output_type": "execute_result"
    }
   ],
   "source": [
    "# Cross validation on one hot encoded data.. \n",
    "model = MLPClassifier(hidden_layer_sizes=(19, 19, 19),activation='relu', solver='adam', max_iter=500)\n",
    "scores = cross_val_score(model,one_enc_X,y,cv=10,n_jobs=-1)\n",
    "scores.mean()"
   ]
  },
  {
   "cell_type": "code",
   "execution_count": 16,
   "metadata": {},
   "outputs": [
    {
     "data": {
      "text/plain": "-0.1524685375023547"
     },
     "execution_count": 16,
     "metadata": {},
     "output_type": "execute_result"
    }
   ],
   "source": [
    "# RMSE on onehotEncoded dataset.\n",
    "scores_rmse = cross_val_score(model,one_enc_X,y,cv=10,n_jobs=-1, scoring='neg_brier_score')\n",
    "scores_rmse.mean()"
   ]
  },
  {
   "cell_type": "code",
   "execution_count": 17,
   "metadata": {},
   "outputs": [
    {
     "data": {
      "text/plain": "0.5670004496194865"
     },
     "execution_count": 17,
     "metadata": {},
     "output_type": "execute_result"
    }
   ],
   "source": [
    "#ROC_AUC on oneHotEncoded\n",
    "scores_auc = cross_val_score(model,one_enc_X,y,cv=10,n_jobs=-1, scoring='roc_auc')\n",
    "scores_auc.mean()"
   ]
  },
  {
   "cell_type": "code",
   "execution_count": null,
   "metadata": {},
   "outputs": [],
   "source": []
  }
 ]
}